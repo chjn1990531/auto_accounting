{
 "cells": [
  {
   "cell_type": "code",
   "execution_count": 1,
   "metadata": {},
   "outputs": [],
   "source": [
    "import sys\n",
    "import imaplib\n",
    "import getpass\n",
    "import email\n",
    "import datetime"
   ]
  },
  {
   "cell_type": "code",
   "execution_count": 2,
   "metadata": {},
   "outputs": [],
   "source": [
    "def process_mailbox(M):\n",
    "    rv, data = M.search(None, \"ALL\")\n",
    "\n",
    "    # print(rv)\n",
    "    # print(data)\n",
    "\n",
    "    if rv != 'OK':\n",
    "        print(\"No messages found!\")\n",
    "        return\n",
    "    else:\n",
    "        print('successfully loading')\n",
    "        # for num in data[0].split():\n",
    "        #     typ, data = M.fetch(num, '(RFC822)')\n",
    "        #     print('Message %sn%sn' % (num, data[0][1]))"
   ]
  },
  {
   "cell_type": "code",
   "execution_count": 3,
   "metadata": {},
   "outputs": [
    {
     "name": "stdout",
     "output_type": "stream",
     "text": [
      "Processing mailbox...\n",
      "\n",
      "successfully loading\n"
     ]
    },
    {
     "data": {
      "text/plain": [
       "('BYE', [b'LOGOUT Requested'])"
      ]
     },
     "execution_count": 3,
     "metadata": {},
     "output_type": "execute_result"
    }
   ],
   "source": [
    "M = imaplib.IMAP4_SSL('imap.gmail.com')\n",
    "\n",
    "try:\n",
    "    M.login('jnchen123.123@gmail.com', 'Abcd1234!@#$') # getpass.getpass())# Abcd1234!@#$\n",
    "except imaplib.IMAP4.error:\n",
    "    print(\"LOGIN FAILED!!! \")\n",
    "    # ... exit or deal with failure...\n",
    "\n",
    "\n",
    "# rv, mailboxes = M.list()\n",
    "# if rv == 'OK':\n",
    "#     print(\"Mailboxes:\")\n",
    "#     print(mailboxes)\n",
    "\n",
    "rv, data = M.select(\"INBOX\")\n",
    "if rv == 'OK':\n",
    "    print(\"Processing mailbox...\\n\")\n",
    "    process_mailbox(M) # the operation with selected mailbox\n",
    "    M.close()\n",
    "M.logout()"
   ]
  },
  {
   "cell_type": "code",
   "execution_count": null,
   "metadata": {},
   "outputs": [],
   "source": []
  },
  {
   "cell_type": "code",
   "execution_count": null,
   "metadata": {},
   "outputs": [],
   "source": []
  }
 ],
 "metadata": {
  "kernelspec": {
   "display_name": "Python 3",
   "language": "python",
   "name": "python3"
  },
  "language_info": {
   "codemirror_mode": {
    "name": "ipython",
    "version": 3
   },
   "file_extension": ".py",
   "mimetype": "text/x-python",
   "name": "python",
   "nbconvert_exporter": "python",
   "pygments_lexer": "ipython3",
   "version": "3.6.4"
  }
 },
 "nbformat": 4,
 "nbformat_minor": 2
}
